{
 "cells": [
  {
   "cell_type": "code",
   "execution_count": null,
   "metadata": {},
   "outputs": [],
   "source": [
    "import gzip\n",
    "import json\n",
    "\n",
    "def read_jsonl_gz(file_path):\n",
    "    with gzip.open(file_path, 'rt') as f:\n",
    "        for line in f:\n",
    "            yield json.loads(line)\n",
    "\n",
    "file_path = './data/manifests/genshin_supervisions_dev.jsonl.gz'\n",
    "\n",
    "# 逐行读取和解析 JSON 数据\n",
    "json_data = list(read_jsonl_gz(file_path))\n",
    "\n",
    "# 查看数据\n",
    "json_data\n"
   ]
  },
  {
   "cell_type": "code",
   "execution_count": 1,
   "metadata": {},
   "outputs": [],
   "source": [
    "import os\n",
    "from bin.myinfer import InferModel\n",
    "\n",
    "os.environ[\"CUDA_VISIBLE_DEVICES\"] = \"2\"\n",
    "model = InferModel(checkpoint=\"exp/valle1/best-valid-loss.pt\")"
   ]
  },
  {
   "cell_type": "code",
   "execution_count": 38,
   "metadata": {},
   "outputs": [],
   "source": [
    "import os\n",
    "import json\n",
    "import shutil\n",
    "from typing import List\n",
    "from collections import OrderedDict\n",
    "from os import PathLike\n",
    "from pathlib import Path\n",
    "\n",
    "import sys\n",
    "\n",
    "# 清除导入的缓存\n",
    "if 'bin.utils' in sys.modules:\n",
    "    del sys.modules['bin.utils']\n",
    "\n",
    "from bin.utils import *\n",
    "\n",
    "\n",
    "class GenShinDataWrapper:\n",
    "    def __init__(\n",
    "        self,\n",
    "        dir: PathLike = Path(\"download/genshin\"),\n",
    "    ) -> None:\n",
    "        self.voice = json.load(open(dir / \"result_chs.json\"))\n",
    "        self.voice_test = json.load(open(dir / \"result_chs_test.json\"))\n",
    "\n",
    "        # 按照 value['npcName'] 进行分组\n",
    "        grouped_dict = OrderedDict()\n",
    "        for key, value in self.voice.items():\n",
    "            group_key = value[\"npcName\"]\n",
    "            grouped_dict.setdefault(group_key, []).append(key)\n",
    "        self.grouped_dict = grouped_dict\n",
    "        self.text_processor = TextProcessor()\n",
    "\n",
    "    def create_file(\n",
    "        self,\n",
    "        file_name: PathLike,\n",
    "        ids: List[str],\n",
    "        texts: List[str],\n",
    "        infer_dir: PathLike,\n",
    "        copy: bool = False,\n",
    "    ):\n",
    "        os.makedirs(infer_dir, exist_ok=True)\n",
    "        with open(file_name, \"w\") as file:\n",
    "            used = {}\n",
    "            for n, id in enumerate(ids):\n",
    "                value = self.voice[id]\n",
    "                text_prompt = value[\"text\"]\n",
    "                audio_prompt = f'download/genshin/{value[\"fileName\"]}'\n",
    "                text = self.text_processor.text_pre_process(texts[n % len(texts)])\n",
    "                if id in used:\n",
    "                    used[id] += 1\n",
    "                    suffix = f\"infer{used[id]}\"\n",
    "                else:\n",
    "                    used[id] = 0\n",
    "                    suffix = \"infer\"\n",
    "                audio_out = f\"{infer_dir}/{id}_{suffix}.wav\"\n",
    "                file.write(\n",
    "                    \"\\t\".join([text_prompt, audio_prompt, text, audio_out]) + \"\\n\"\n",
    "                )\n",
    "        print(open(file_name).read())\n",
    "        if copy:\n",
    "            shutil.copyfile(file_name, f\"../../../{file_name}\")\n",
    "        return file_name\n",
    "\n",
    "    def get_npc_ids(\n",
    "        self,\n",
    "        name: str,\n",
    "        count: int = 5,\n",
    "        min_len: int = 8,\n",
    "        max_len: int = 18,\n",
    "    ):\n",
    "        ids = [\n",
    "            key\n",
    "            for key in self.grouped_dict[name]\n",
    "            if min_len <= len(self.voice[key][\"text\"]) <= max_len\n",
    "        ]\n",
    "        return random_samples(ids, count)\n",
    "\n",
    "    def get_test_ids(\n",
    "        self,\n",
    "        count: int = 5,\n",
    "        min_len=8,\n",
    "        max_len=18,\n",
    "    ) -> List[str]:\n",
    "        ids = [\n",
    "            key\n",
    "            for key, value in self.voice_test.items()\n",
    "            if min_len <= len(value[\"text\"]) <= max_len\n",
    "        ]\n",
    "        return random_samples(ids, count)"
   ]
  },
  {
   "cell_type": "code",
   "execution_count": 45,
   "metadata": {},
   "outputs": [
    {
     "name": "stdout",
     "output_type": "stream",
     "text": [
      "谢谢你们,我们会转达的!\tdownload/genshin/Chinese/VO_LQ/VO_paimon/vo_HTLQ003_12_paimon_01.wav\t希望是人类前进的动力,它激发我们努力奋斗,追求更好的未来.\taudios/genshin/895c33cac0108881_infer.wav\n",
      "我肯定会记半辈子!\tdownload/genshin/Chinese/VO_EQ/VO_paimon/vo_EQHDJ201_2_paimon_17.wav\t每个人都有潜力成为更好的自己,关键在于发现和释放这个潜力.\taudios/genshin/c21c5e1123494d09_infer.wav\n",
      "应该足够强了吧?\tdownload/genshin/Chinese/VO_EQ/VO_paimon/vo_EQXS005_2_paimon_04.wav\t生活的道路上有坎坷,只要坚持向前,终将会到达成功的彼岸.\taudios/genshin/4f1125d6c84998b4_infer.wav\n",
      "没错,我也觉得你会挨骂,不要冲动呀!\tdownload/genshin/Chinese/VO_EQ/VO_paimon/vo_EQFH001_6_paimon_08c.wav\t真正的友谊建立在信任,理解和共享的基础上,它能够经受时间的考验.\taudios/genshin/05c3d184b722bf94_infer.wav\n",
      "感觉付出了很大的代价.\tdownload/genshin/Chinese/VO_LQ/VO_paimon/vo_HTLQ004_5_paimon_02.wav\t人生犹如一场旅行,我们要勇敢踏上未知的道路,发现新的可能性.\taudios/genshin/2fe264098baa2ce5_infer.wav\n",
      "\n"
     ]
    }
   ],
   "source": [
    "wrapper = GenShinDataWrapper()\n",
    "\n",
    "ids = wrapper.get_npc_ids(\"派蒙\")\n",
    "# ids = [\"c15260d94fa350c1\"] * 5\n",
    "# ids = wrapper.get_test_ids(5)\n",
    "\n",
    "texts = get_tts_texts(\"mid\")\n",
    "\n",
    "file_name = wrapper.create_file(\"genshin.txt\", ids, texts, \"audios/genshin\")"
   ]
  },
  {
   "cell_type": "code",
   "execution_count": null,
   "metadata": {},
   "outputs": [],
   "source": [
    "# file_name = 'test.txt'\n",
    "\n",
    "model.infer_by_file(file_name)\n",
    "\n",
    "show_audios(file_name)"
   ]
  },
  {
   "cell_type": "code",
   "execution_count": 53,
   "metadata": {},
   "outputs": [
    {
     "name": "stdout",
     "output_type": "stream",
     "text": [
      "1 2\n"
     ]
    }
   ],
   "source": [
    "int(\"aaaaaa11\"[-2:])\n",
    "aa = lambda x:(1,2)\n",
    "b,c = aa(1)\n",
    "print(b,c)"
   ]
  }
 ],
 "metadata": {
  "kernelspec": {
   "display_name": "valle",
   "language": "python",
   "name": "python3"
  },
  "language_info": {
   "codemirror_mode": {
    "name": "ipython",
    "version": 3
   },
   "file_extension": ".py",
   "mimetype": "text/x-python",
   "name": "python",
   "nbconvert_exporter": "python",
   "pygments_lexer": "ipython3",
   "version": "3.8.16"
  },
  "orig_nbformat": 4
 },
 "nbformat": 4,
 "nbformat_minor": 2
}
