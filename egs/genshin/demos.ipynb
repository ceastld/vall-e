{
 "cells": [
  {
   "cell_type": "code",
   "execution_count": null,
   "metadata": {},
   "outputs": [],
   "source": [
    "import gzip\n",
    "import json\n",
    "\n",
    "def read_jsonl_gz(file_path):\n",
    "    with gzip.open(file_path, 'rt') as f:\n",
    "        for line in f:\n",
    "            yield json.loads(line)\n",
    "\n",
    "file_path = './data/manifests/genshin_supervisions_dev.jsonl.gz'\n",
    "\n",
    "# 逐行读取和解析 JSON 数据\n",
    "json_data = list(read_jsonl_gz(file_path))\n",
    "\n",
    "# 查看数据\n",
    "json_data\n"
   ]
  },
  {
   "cell_type": "code",
   "execution_count": 10,
   "metadata": {},
   "outputs": [
    {
     "name": "stdout",
     "output_type": "stream",
     "text": [
      "['有一点需要注意', ',', '探案过程中我们都会发现很多线索', ',', '但未必每条都是有用的', '.']\n"
     ]
    },
    {
     "data": {
      "text/plain": [
       "<re.Match object; span=(0, 1), match='啊'>"
      ]
     },
     "execution_count": 10,
     "metadata": {},
     "output_type": "execute_result"
    }
   ],
   "source": [
    "import re\n",
    "\n",
    "text = \"有一点需要注意,探案过程中我们都会发现很多线索,但未必每条都是有用的.\"\n",
    "\n",
    "# 正则表达式匹配中文字符和非中文字符序列\n",
    "chunks = (chunk for chunk in re.split('([\\u4e00-\\u9fff]+)', text) if chunk)\n",
    "\n",
    "# 转化为列表输出\n",
    "result = list(chunks)\n",
    "\n",
    "print(result)\n",
    "\n",
    "re.match(r'[\\u4e00-\\u9fff]',\"啊阿萨的开发了\")"
   ]
  }
 ],
 "metadata": {
  "kernelspec": {
   "display_name": "valle",
   "language": "python",
   "name": "python3"
  },
  "language_info": {
   "codemirror_mode": {
    "name": "ipython",
    "version": 3
   },
   "file_extension": ".py",
   "mimetype": "text/x-python",
   "name": "python",
   "nbconvert_exporter": "python",
   "pygments_lexer": "ipython3",
   "version": "3.8.16"
  },
  "orig_nbformat": 4
 },
 "nbformat": 4,
 "nbformat_minor": 2
}
