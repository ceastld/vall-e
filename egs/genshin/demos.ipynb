{
 "cells": [
  {
   "cell_type": "code",
   "execution_count": null,
   "metadata": {},
   "outputs": [],
   "source": [
    "# import gzip\n",
    "# import json\n",
    "\n",
    "# def read_jsonl_gz(file_path):\n",
    "#     with gzip.open(file_path, 'rt') as f:\n",
    "#         for line in f:\n",
    "#             yield json.loads(line)\n",
    "\n",
    "# file_path = './data/manifests/genshin_supervisions_dev.jsonl.gz'\n",
    "\n",
    "# # 逐行读取和解析 JSON 数据\n",
    "# json_data = list(read_jsonl_gz(file_path))\n",
    "\n",
    "# # 查看数据\n",
    "# json_data\n"
   ]
  },
  {
   "cell_type": "code",
   "execution_count": 1,
   "metadata": {},
   "outputs": [
    {
     "name": "stderr",
     "output_type": "stream",
     "text": [
      "/home/ldy/anaconda3/envs/valle/lib/python3.8/site-packages/tqdm/auto.py:21: TqdmWarning: IProgress not found. Please update jupyter and ipywidgets. See https://ipywidgets.readthedocs.io/en/stable/user_install.html\n",
      "  from .autonotebook import tqdm as notebook_tqdm\n"
     ]
    }
   ],
   "source": [
    "import os\n",
    "from bin.myinfer import InferModel\n",
    "\n",
    "os.environ[\"CUDA_VISIBLE_DEVICES\"] = \"2\"\n",
    "model = InferModel(checkpoint=\"exp/valle2/best-valid-loss.pt\")\n",
    "# model512 = InferModel(checkpoint='exp512/valle1/best-valid-loss.pt',decoder_dim=512)\n",
    "# model256 = InferModel(checkpoint='exp256/valle/best-valid-loss.pt',decoder_dim=256,nhead=8,num_decoder_layers=6)"
   ]
  },
  {
   "cell_type": "code",
   "execution_count": 5,
   "metadata": {},
   "outputs": [],
   "source": [
    "import json\n",
    "from typing import List\n",
    "from collections import OrderedDict\n",
    "from os import PathLike\n",
    "from pathlib import Path\n",
    "\n",
    "import sys\n",
    "\n",
    "# 清除导入的缓存\n",
    "if \"bin.utils\" in sys.modules:\n",
    "    del sys.modules[\"bin.utils\"]\n",
    "\n",
    "from bin.utils import *\n",
    "\n",
    "\n",
    "class GenShinDataWrapper:\n",
    "    def __init__(\n",
    "        self,\n",
    "    ) -> None:\n",
    "        dir = Path(\"download/genshin\")\n",
    "        self.dir = dir\n",
    "        self.voice = json.load(open(dir / \"result_chs.json\"))\n",
    "        self.voice_test = json.load(open(dir / \"result_chs_test.json\"))\n",
    "\n",
    "        # 按照 value['npcName'] 进行分组\n",
    "        grouped_dict = OrderedDict()\n",
    "        for key, value in self.voice.items():\n",
    "            group_key = value[\"npcName\"]\n",
    "            grouped_dict.setdefault(group_key, []).append(key)\n",
    "        self.grouped_dict = grouped_dict\n",
    "        self.text_processor = TextProcessor()\n",
    "\n",
    "    def get_text_audio(self, id):\n",
    "        value = self.voice[id]\n",
    "        return value[\"text\"], self.dir / value[\"fileName\"]\n",
    "\n",
    "    def create_file(\n",
    "        self,\n",
    "        file_name: PathLike,\n",
    "        ids: List[str],\n",
    "        texts: List[str],\n",
    "        infer_dir: PathLike = \"audios/genshin\",\n",
    "        copy: bool = False,\n",
    "    ):\n",
    "        texts = [self.text_processor.process_str(t) for t in texts]\n",
    "        return create_file_base(\n",
    "            file_name, ids, self.get_text_audio, texts, infer_dir, copy\n",
    "        )\n",
    "\n",
    "    def get_npc_ids(\n",
    "        self, name: str, count: int = 5, min_len: int = 8, max_len: int = 18\n",
    "    ):\n",
    "        ids = [\n",
    "            key\n",
    "            for key in self.grouped_dict[name]\n",
    "            if min_len <= len(self.voice[key][\"text\"]) <= max_len\n",
    "        ]\n",
    "        return random_samples(ids, count)\n",
    "\n",
    "    def get_test_ids(self, count: int = 5, min_len=8, max_len=18) -> List[str]:\n",
    "        ids = [\n",
    "            key\n",
    "            for key, value in self.voice_test.items()\n",
    "            if min_len <= len(value[\"text\"]) <= max_len\n",
    "        ]\n",
    "        return random_samples(ids, count)\n",
    "\n",
    "    def create_train_demo(\n",
    "        self, file_name=\"genshin.txt\", out_name=\"../../../genshin.txt\"\n",
    "    ):\n",
    "        with open(file_name) as f1, open(out_name,'w') as f2:\n",
    "            for line in f1.readlines():\n",
    "                if line:\n",
    "                    f2.write(copy_file_in_line(line, \"audios/genshin_train\"))\n",
    "\n",
    "    def nice_write_line(\n",
    "        self, file_name: PathLike = \"genshin.txt\", idxs: List[int] = None\n",
    "    ):\n",
    "        lines = [l.strip() for l in open(file_name).readlines() if l.strip()]\n",
    "        if not idxs:\n",
    "            return\n",
    "        target_path = \"../../../genshin_nice.txt\"\n",
    "        with open(target_path, \"a\") as f:\n",
    "            for idx in idxs:\n",
    "                line = copy_file_in_line(\n",
    "                    lines[idx], target_path=\"audios/aishell2_nice\"\n",
    "                )\n",
    "                f.write(line + \"\\n\")\n",
    "                print(f\"add_line: {line}\")"
   ]
  },
  {
   "cell_type": "code",
   "execution_count": 11,
   "metadata": {},
   "outputs": [
    {
     "name": "stdout",
     "output_type": "stream",
     "text": [
      "那万一她用不着你帮忙,你怎么办?\tdownload/genshin/Chinese/VO_AQ/VO_paimon/vo_CYAQ001_1_paimon_25b.wav\t在广阔的天空中,勇敢地展翅高飞,去征服属于自己的蓝天.风儿在耳边低语,让心灵自由翱翔.感受飞行的自由与快乐,看着身下的世界渐行渐远,那种豪情壮志令人心潮澎湃.\taudios/genshin/273446959cf8f403_infer.wav\n",
      "咦,你已经不会再难受了吗?真的吗?\tdownload/genshin/Chinese/VO_AQ/VO_paimon/vo_XMAQ003_12_paimon_07.wav\t音乐是心灵的语言,它能穿透时空的界限,触动最柔软的内心深处.沉浸在音乐中,身心得到疗愈与抚慰,情绪得到释放与宣泄.音符跳跃在空气中,带着节奏和情感,将我们带入一个全新的境界,与自我和谐共舞.\taudios/genshin/482d34596edaf7ae_infer.wav\n",
      "五十年?是什么重要的日子吗?\tdownload/genshin/Chinese/VO_LQ/VO_paimon/vo_XGLQ003_3_paimon_01.wav\t相信自己,你是独一无二的存在.你拥有无限的潜力和能力,可以超越自我,创造出令人惊艳的奇迹.不要害怕追逐梦想,不要停止向前,因为你拥有改变世界的力量,只需要勇敢地展现真实的自己,去创造你独特的轨迹.\taudios/genshin/fbe427e68489f832_infer.wav\n",
      "\n"
     ]
    }
   ],
   "source": [
    "wrapper = GenShinDataWrapper()\n",
    "\n",
    "# ids = [\"c15260d94fa350c1\"] * 5\n",
    "# ids = wrapper.get_test_ids(5)\n",
    "\n",
    "ids = wrapper.get_npc_ids(\"派蒙\",count=3,min_len=10) \\\n",
    "+ wrapper.get_npc_ids(\"胡桃\",count=3,min_len=10) \\\n",
    "+ wrapper.get_npc_ids(\"行秋\",count=3,min_len=10) \\\n",
    "+ wrapper.get_npc_ids(\"艾尔海森\",count=3,min_len=10)\n",
    "\n",
    "texts = get_tts_texts(\"mid\",count=12)\n",
    "\n",
    "ids = wrapper.get_npc_ids(\"派蒙\",min_len=10)\n",
    "texts = get_tts_texts('long')\n",
    "\n",
    "file_name = wrapper.create_file(\"genshin.txt\", ids, texts, \"audios/genshin\")"
   ]
  },
  {
   "cell_type": "code",
   "execution_count": 85,
   "metadata": {},
   "outputs": [
    {
     "name": "stdout",
     "output_type": "stream",
     "text": [
      "成功将文件 'download/genshin/Chinese/VO_LQ/VO_npc/vo_XHLQ002_5_izumiNaki_03.wav' 复制到 'audios/genshin_nice/vo_XHLQ002_5_izumiNaki_03.wav'。\n",
      "成功将文件 'audios/genshin/c68ab184654664be_infer.wav' 复制到 'audios/genshin_nice/c68ab184654664be_infer.wav'。\n",
      "add_line: 真的吗?不愧是珊瑚宫大人,太厉害了!\taudios/genshin_nice/vo_XHLQ002_5_izumiNaki_03.wav\t成功并非是一蹴而就的,它需要付出汗水与努力,在坚持不懈的追求中,我们才能看到成功的曙光.\taudios/genshin/c68ab184654664be_infer.wav\n",
      "成功将文件 'download/genshin/Chinese/VO_LQ/VO_npc/vo_NHDLQ002_9_basimah_02.wav' 复制到 'audios/genshin_nice/vo_NHDLQ002_9_basimah_02.wav'。\n",
      "成功将文件 'audios/genshin/c9107927aa8fa1fd_infer.wav' 复制到 'audios/genshin_nice/c9107927aa8fa1fd_infer.wav'。\n",
      "add_line: 喂喂,说什么呢,黛比.\taudios/genshin_nice/vo_NHDLQ002_9_basimah_02.wav\t在人类文明的长河中,无数英勇的先驱者翻山越岭,探索未知,用智慧和勇气书写着壮丽的篇章,将世界推向更加辉煌的未来.\taudios/genshin/c9107927aa8fa1fd_infer.wav\n"
     ]
    }
   ],
   "source": [
    "wrapper = GenShinDataWrapper()\n",
    "\n",
    "wrapper.nice_write_line('genshin.txt',idxs=[2,4])"
   ]
  },
  {
   "cell_type": "code",
   "execution_count": null,
   "metadata": {},
   "outputs": [],
   "source": [
    "# model256.infer_by_file(file_name)\n",
    "# model512.infer_by_file(file_name)\n",
    "model.infer_by_file(file_name)\n",
    "\n",
    "show_audios(file_name)"
   ]
  },
  {
   "cell_type": "code",
   "execution_count": null,
   "metadata": {},
   "outputs": [],
   "source": [
    "wrapper.create_train_demo()"
   ]
  },
  {
   "cell_type": "code",
   "execution_count": null,
   "metadata": {},
   "outputs": [],
   "source": [
    "file_name = \"../../../test1.txt\"\n",
    "ids = [\"01\", \"02\", \"03\", \"04\", \"05\", \"06\", \"07\", \"08\"]\n",
    "text_prompts = [\n",
    "    \"经过屏幕上每一颗像素\",\n",
    "    \"光线跟踪是一种真实的显示物体的方法\",\n",
    "    \"特別的美\",\n",
    "    \"去看了一下我們的牡丹\",\n",
    "    \"你爱我们的家吗\",\n",
    "    \"你也会爱我们的家的啊\",\n",
    "    \"我来到这个世界上\",\n",
    "    \"妈妈给我说过\",\n",
    "]\n",
    "text_processor = TextProcessor()\n",
    "\n",
    "create_file_base(\n",
    "    file_name,\n",
    "    ids=ids,\n",
    "    get_info=lambda id: (text_prompts[int(id)-1],f'audios/test1/{id}.wav'),\n",
    "    texts=[text_processor.process_str(t) for t in get_tts_texts(\"mid\",count=10)],\n",
    "    infer_dir=\"audios/test1\",\n",
    ")\n",
    "\n",
    "model.infer_by_file(file_name)\n",
    "\n",
    "show_audios(file_name)"
   ]
  },
  {
   "cell_type": "code",
   "execution_count": null,
   "metadata": {},
   "outputs": [],
   "source": [
    "from bin.myinfer import InferModel\n",
    "\n",
    "model_empty = InferModel(\"\")\n",
    "\n",
    "with open(file_name) as file:\n",
    "    lines = [l.strip() for l in file.readlines()]\n",
    "    for line in lines:\n",
    "        if not line:\n",
    "            break\n",
    "        sp = line.split(\"\\t\")\n",
    "        model_empty.audio_codec_test(sp[1], sp[3])\n",
    "\n",
    "show_audios(file_name)"
   ]
  },
  {
   "cell_type": "code",
   "execution_count": 8,
   "metadata": {},
   "outputs": [
    {
     "name": "stdout",
     "output_type": "stream",
     "text": [
      "[]\n"
     ]
    }
   ],
   "source": [
    "import re\n",
    "\n",
    "text = '㶧'\n",
    "\n",
    "# 使用正则表达式匹配中文字符\n",
    "pattern = re.compile(r'[\\u4e00-\\u9fff]+')\n",
    "matches = re.findall(pattern, text)\n",
    "\n",
    "print(matches)  # 输出：['你好', '世界']\n"
   ]
  }
 ],
 "metadata": {
  "kernelspec": {
   "display_name": "valle",
   "language": "python",
   "name": "python3"
  },
  "language_info": {
   "codemirror_mode": {
    "name": "ipython",
    "version": 3
   },
   "file_extension": ".py",
   "mimetype": "text/x-python",
   "name": "python",
   "nbconvert_exporter": "python",
   "pygments_lexer": "ipython3",
   "version": "3.8.16"
  },
  "orig_nbformat": 4
 },
 "nbformat": 4,
 "nbformat_minor": 2
}
