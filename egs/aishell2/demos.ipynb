{
 "cells": [
  {
   "cell_type": "code",
   "execution_count": null,
   "metadata": {},
   "outputs": [],
   "source": [
    "import os\n",
    "from bin.myinfer import InferModel\n",
    "\n",
    "os.environ[\"CUDA_VISIBLE_DEVICES\"] = \"2\"\n",
    "model = InferModel(checkpoint=\"exp/valle/best-valid-loss.pt\")"
   ]
  },
  {
   "cell_type": "code",
   "execution_count": 1,
   "metadata": {},
   "outputs": [],
   "source": [
    "import sys\n",
    "\n",
    "if \"bin.utils\" in sys.modules:\n",
    "    del sys.modules[\"bin.utils\"]\n",
    "\n",
    "from bin.utils import *\n",
    "\n",
    "\n",
    "class AIShell2DataWrapper:\n",
    "    def __init__(self) -> None:\n",
    "        dir = Path(\"download/aishell2/AISHELL-2/iOS/test\")\n",
    "        lines = open(dir / \"trans.txt\").readlines()\n",
    "        self.voice = {\n",
    "            key: value for line in lines for key, value in [self.line_parser(line)]\n",
    "        }\n",
    "\n",
    "    def line_parser(self, line: str):\n",
    "        id = line[:11]\n",
    "        id1 = line[1:6]\n",
    "        # id2 = line[6:11]\n",
    "        text = line[12:].strip()\n",
    "        return id, {\n",
    "            \"file_name\": Path(f\"wav/{id1}/{id}.wav\"),\n",
    "            \"text\": text,\n",
    "            \"npc_id\": int(id1[-2:]),\n",
    "        }\n",
    "\n",
    "    def get_ids(\n",
    "        self,\n",
    "        count: int = 5,\n",
    "        min_len: int = 8,\n",
    "        max_len: int = 18,\n",
    "        nice: bool = False,\n",
    "    ):\n",
    "        ids = [\n",
    "            key\n",
    "            for key in self.voice.keys()\n",
    "            if min_len <= len(self.voice[key][\"text\"]) <= max_len\n",
    "        ]\n",
    "        if nice:\n",
    "            nice_set = {16, 17, 19, 22, 23, 25}\n",
    "            ids = [key for key in ids if int(self.voice[key][\"id\"]) in nice_set]\n",
    "        return random_samples(ids, count)\n",
    "\n",
    "    def create_file(\n",
    "        self,\n",
    "        file_name: PathLike,\n",
    "        ids,\n",
    "        texts,\n",
    "        infer_dir=\"audios/aishell2\",\n",
    "        copy: bool = False,\n",
    "    ):\n",
    "        voice = self.voice\n",
    "        return create_file_base(\n",
    "            file_name=file_name,\n",
    "            ids=ids,\n",
    "            get_info=lambda id: (voice[id][\"text\"], voice[id][\"file_name\"]),\n",
    "            texts=texts,\n",
    "            infer_dir=infer_dir,\n",
    "            copy=copy,\n",
    "        )"
   ]
  },
  {
   "cell_type": "code",
   "execution_count": null,
   "metadata": {},
   "outputs": [],
   "source": [
    "wrapper = AIShell2DataWrapper()\n",
    "\n",
    "ids = wrapper.get_ids(count=5,nice=True)\n",
    "\n",
    "texts = get_tts_texts('short')\n",
    "\n",
    "def process_char(c):\n",
    "    if re.match(r'[\\u4e00-\\u9fff，]',c):\n",
    "        return c\n",
    "    else:\n",
    "        return ''\n",
    "def process_str(s):\n",
    "    return \"\".join([process_char(x) for x in s])\n",
    "\n",
    "texts = [process_str(x) for x in texts]\n",
    "\n",
    "file_name = wrapper.create_file(\"aishell2.txt\", ids, texts)"
   ]
  },
  {
   "attachments": {},
   "cell_type": "markdown",
   "metadata": {},
   "source": [
    "# others"
   ]
  },
  {
   "cell_type": "code",
   "execution_count": null,
   "metadata": {},
   "outputs": [],
   "source": [
    "import librosa\n",
    "import librosa.display\n",
    "import matplotlib.pyplot as plt\n",
    "\n",
    "filename = \"audios/aishell2/IT0016W0441.wav\"\n",
    "waveform, sr = librosa.load(filename)\n",
    "\n",
    "plt.figure(figsize=(12, 4))\n",
    "# librosa.display.waveplot(waveform, sr=sr)\n",
    "plt.plot(waveform, color=\"#007acc\")\n",
    "plt.title(\"Waveform\")\n",
    "plt.xlabel(\"Time (seconds)\")\n",
    "plt.ylabel(\"Amplitude\")\n",
    "plt.show()"
   ]
  },
  {
   "cell_type": "code",
   "execution_count": null,
   "metadata": {},
   "outputs": [],
   "source": [
    "from collections import Counter\n",
    "\n",
    "\n",
    "wrapper = AIShell2DataWrapper()\n",
    "counter = Counter()\n",
    "count = 0\n",
    "with open(\"download/aishell2/AISHELL-2/iOS/data/trans.txt\") as file:\n",
    "    while True:\n",
    "        line = file.readline()\n",
    "        if not line:\n",
    "            break\n",
    "        ls = re.findall(\"[㶧䶮𫚉]+\", line[12:])\n",
    "        count += bool(ls)\n",
    "        counter.update(ls)\n",
    "\n",
    "sorted_counter = sorted(counter.items(), key=lambda x: x[1], reverse=True)\n",
    "\n",
    "print(f\"count:{count}\")\n",
    "print(*sorted_counter, sep=\"\\n\")"
   ]
  },
  {
   "cell_type": "code",
   "execution_count": null,
   "metadata": {},
   "outputs": [],
   "source": [
    "# from valle.data.collation import get_text_token_collater\n",
    "# from valle.data.tokenizer import TextTokenizer, tokenize_text\n",
    "\n",
    "\n",
    "# text_tokenizer = TextTokenizer(backend=\"pypinyin_initials_finals\")\n",
    "# text_collater = get_text_token_collater(\"data/tokenized/unique_text_tokens.k2symbols\")\n",
    "# text = \"WE WILL ROCK YOU 好而\"\n",
    "\n",
    "\n",
    "# print([tokenize_text(text_tokenizer, text=text)])"
   ]
  },
  {
   "cell_type": "code",
   "execution_count": null,
   "metadata": {},
   "outputs": [],
   "source": [
    "from bin.utils import *\n",
    "import re\n",
    "\n",
    "for item in read_jsonl_gz('data/manifests/aishell2_supervisions_train.jsonl.gz'):\n",
    "    ls = re.findall(r'[a-zA-Z]+',item['text'])\n",
    "    if ls:\n",
    "        print(ls)"
   ]
  }
 ],
 "metadata": {
  "kernelspec": {
   "display_name": "valle3",
   "language": "python",
   "name": "python3"
  },
  "language_info": {
   "codemirror_mode": {
    "name": "ipython",
    "version": 3
   },
   "file_extension": ".py",
   "mimetype": "text/x-python",
   "name": "python",
   "nbconvert_exporter": "python",
   "pygments_lexer": "ipython3",
   "version": "3.8.16"
  },
  "orig_nbformat": 4
 },
 "nbformat": 4,
 "nbformat_minor": 2
}
