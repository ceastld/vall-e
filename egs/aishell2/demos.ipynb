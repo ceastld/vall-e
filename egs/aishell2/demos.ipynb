{
 "cells": [
  {
   "cell_type": "code",
   "execution_count": null,
   "metadata": {},
   "outputs": [],
   "source": [
    "import os\n",
    "from bin.myinfer import InferModel\n",
    "\n",
    "os.environ[\"CUDA_VISIBLE_DEVICES\"] = \"2\"\n",
    "model = InferModel(checkpoint=\"exp/valle/best-valid-loss.pt\")"
   ]
  },
  {
   "cell_type": "code",
   "execution_count": 1,
   "metadata": {},
   "outputs": [],
   "source": [
    "import sys\n",
    "\n",
    "if \"bin.utils\" in sys.modules:\n",
    "    del sys.modules[\"bin.utils\"]\n",
    "\n",
    "from bin.utils import *\n",
    "\n",
    "\n",
    "class AIShell2DataWrapper:\n",
    "    def __init__(self) -> None:\n",
    "        dir = Path(\"download/aishell2/AISHELL-2/iOS/test\")\n",
    "        lines = open(dir / \"trans.txt\").readlines()\n",
    "        self.voice = {\n",
    "            key: value for line in lines for key, value in [self.line_parser(line)]\n",
    "        }\n",
    "\n",
    "    def line_parser(self, line: str):\n",
    "        id = line[:11]\n",
    "        id1 = line[1:6]\n",
    "        # id2 = line[6:11]\n",
    "        text = line[12:].strip()\n",
    "        return id, {\n",
    "            \"file_name\": Path(f\"wav/{id1}/{id}.wav\"),\n",
    "            \"text\": text,\n",
    "            \"npc_id\": int(id1[-2:]),\n",
    "        }\n",
    "\n",
    "    def get_ids(\n",
    "        self,\n",
    "        count: int = 5,\n",
    "        min_len: int = 8,\n",
    "        max_len: int = 18,\n",
    "        nice: bool = False,\n",
    "    ):\n",
    "        ids = [\n",
    "            key\n",
    "            for key in self.voice.keys()\n",
    "            if min_len <= len(self.voice[key][\"text\"]) <= max_len\n",
    "        ]\n",
    "        if nice:\n",
    "            nice_set = {16, 17, 19, 22, 23, 25}\n",
    "            ids = [key for key in ids if int(self.voice[key][\"id\"]) in nice_set]\n",
    "        return random_samples(ids, count)\n",
    "\n",
    "    def create_file(\n",
    "        self,\n",
    "        file_name: PathLike,\n",
    "        ids,\n",
    "        texts,\n",
    "        infer_dir=\"audios/aishell2\",\n",
    "        copy: bool = False,\n",
    "    ):\n",
    "        voice = self.voice\n",
    "        return create_file_base(\n",
    "            file_name=file_name,\n",
    "            ids=ids,\n",
    "            get_info=lambda id: (voice[id][\"text\"], voice[id][\"file_name\"]),\n",
    "            texts=texts,\n",
    "            infer_dir=infer_dir,\n",
    "            copy=copy,\n",
    "        )"
   ]
  },
  {
   "cell_type": "code",
   "execution_count": 2,
   "metadata": {},
   "outputs": [
    {
     "name": "stdout",
     "output_type": "stream",
     "text": [
      "由雪莉给你做血管形成术\twav/T0021/IT0021W0366.wav\t不要害怕失败，它是成功之路上的一站。\taudios/aishell2/IT0021W0366_infer.wav\n",
      "请递给我一个最熟的橘子\twav/T0011/IT0011W0408.wav\t关注身边的美好，你会发现生活的乐趣。\taudios/aishell2/IT0011W0408_infer.wav\n",
      "正式来的时候再认真演\twav/T0020/IT0020W0143.wav\t坚持追求，收获将会甜美而丰盛。\taudios/aishell2/IT0020W0143_infer.wav\n",
      "你得有执照才能上去吧\twav/T0025/IT0025W0261.wav\t当夜幕降临，星光点点，我的心将你牵引。\taudios/aishell2/IT0025W0261_infer.wav\n",
      "日出前必须过桥回到曼哈顿\twav/T0017/IT0017W0141.wav\t人生犹如一场马拉松，坚持到底才是胜利。\taudios/aishell2/IT0017W0141_infer.wav\n",
      "\n"
     ]
    }
   ],
   "source": [
    "wrapper = AIShell2DataWrapper()\n",
    "\n",
    "ids = wrapper.get_ids(nice=False)\n",
    "\n",
    "texts = [\n",
    "    \"健康的身体是实现梦想和幸福生活的基石\",\n",
    "]\n",
    "\n",
    "texts = get_tts_texts()\n",
    "\n",
    "file_name = wrapper.create_file(\"aishell2.txt\", ids, texts, copy=False)\n",
    "\n",
    "# show_audios(file_name)"
   ]
  },
  {
   "attachments": {},
   "cell_type": "markdown",
   "metadata": {},
   "source": [
    "# others"
   ]
  },
  {
   "cell_type": "code",
   "execution_count": null,
   "metadata": {},
   "outputs": [],
   "source": [
    "import librosa\n",
    "import librosa.display\n",
    "import matplotlib.pyplot as plt\n",
    "\n",
    "filename = \"audios/aishell2/IT0016W0441.wav\"\n",
    "waveform, sr = librosa.load(filename)\n",
    "\n",
    "plt.figure(figsize=(12, 4))\n",
    "# librosa.display.waveplot(waveform, sr=sr)\n",
    "plt.plot(waveform, color=\"#007acc\")\n",
    "plt.title(\"Waveform\")\n",
    "plt.xlabel(\"Time (seconds)\")\n",
    "plt.ylabel(\"Amplitude\")\n",
    "plt.show()"
   ]
  }
 ],
 "metadata": {
  "kernelspec": {
   "display_name": "valle3",
   "language": "python",
   "name": "python3"
  },
  "language_info": {
   "codemirror_mode": {
    "name": "ipython",
    "version": 3
   },
   "file_extension": ".py",
   "mimetype": "text/x-python",
   "name": "python",
   "nbconvert_exporter": "python",
   "pygments_lexer": "ipython3",
   "version": "3.8.16"
  },
  "orig_nbformat": 4
 },
 "nbformat": 4,
 "nbformat_minor": 2
}
