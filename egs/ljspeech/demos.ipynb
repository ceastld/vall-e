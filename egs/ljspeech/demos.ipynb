{
 "cells": [
  {
   "cell_type": "code",
   "execution_count": 4,
   "metadata": {},
   "outputs": [],
   "source": [
    "from IPython.display import display, Audio\n",
    "\n",
    "id_text = {\n",
    "    \"LJ049-0185_24K\": \"In addition, the proposed legislation will insure.\",\n",
    "    \"LJ049-0124_24K\": \"During the period the Commission was giving thought to this situation,\",\n",
    "}\n",
    "\n",
    "with open('ljspeech.txt','w') as file:\n",
    "    for id,text in id_text.items():\n",
    "        text_prompt = open(f'prompts/{id}.txt').readline().strip()\n",
    "        audio_prompt = f'prompts/{id}.wav'\n",
    "        audio_file = f'audios/ljspeech/{id}_ljspeech_me.wav'\n",
    "        file.write(f'{text_prompt}\\t{audio_prompt}\\t{text}\\t{audio_file}\\n')\n",
    "        "
   ]
  }
 ],
 "metadata": {
  "kernelspec": {
   "display_name": "valle3",
   "language": "python",
   "name": "python3"
  },
  "language_info": {
   "codemirror_mode": {
    "name": "ipython",
    "version": 3
   },
   "file_extension": ".py",
   "mimetype": "text/x-python",
   "name": "python",
   "nbconvert_exporter": "python",
   "pygments_lexer": "ipython3",
   "version": "3.8.16"
  },
  "orig_nbformat": 4
 },
 "nbformat": 4,
 "nbformat_minor": 2
}
